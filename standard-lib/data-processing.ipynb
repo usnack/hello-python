{
 "cells": [
  {
   "cell_type": "markdown",
   "source": [
    "# File IO"
   ],
   "metadata": {
    "collapsed": false
   }
  },
  {
   "cell_type": "code",
   "execution_count": 3,
   "outputs": [
    {
     "name": "stdout",
     "output_type": "stream",
     "text": [
      "value='Hello\\nFoo~~'\n"
     ]
    }
   ],
   "source": [
    "f = open('foo.json')\n",
    "value = f.read()\n",
    "print(f'{value=}')\n",
    "f.close()"
   ],
   "metadata": {
    "collapsed": false,
    "ExecuteTime": {
     "start_time": "2023-10-27T18:19:21.956039Z",
     "end_time": "2023-10-27T18:19:21.960412Z"
    }
   }
  },
  {
   "cell_type": "code",
   "execution_count": 4,
   "outputs": [
    {
     "name": "stdout",
     "output_type": "stream",
     "text": [
      "value='Hello\\nFoo~~'\n"
     ]
    }
   ],
   "source": [
    "## with open ~ : auto close\n",
    "with open('foo.json') as f:\n",
    "    value=f.read()\n",
    "print(f'{value=}')\n"
   ],
   "metadata": {
    "collapsed": false,
    "ExecuteTime": {
     "start_time": "2023-10-27T18:19:42.903958Z",
     "end_time": "2023-10-27T18:19:42.911880Z"
    }
   }
  },
  {
   "cell_type": "code",
   "execution_count": 10,
   "outputs": [
    {
     "name": "stdout",
     "output_type": "stream",
     "text": [
      "f.read() : Hello\n",
      "Foo~~\n",
      "f.read(3) : Hel\n",
      "f.readline() : Hello\n",
      "\n",
      "f.readlines() : ['Hello\\n', 'Foo~~']\n",
      "f.readlines(1) : ['Hello\\n']\n"
     ]
    }
   ],
   "source": [
    "## read(), readline()...\n",
    "def readFoo(readFunc):\n",
    "    with open('foo.json') as f:\n",
    "        return readFunc(f)\n",
    "\n",
    "print(f'f.read() : {readFoo(lambda f: f.read())}')\n",
    "print(f'f.read(3) : {readFoo(lambda f: f.read(3))}')\n",
    "print(f'f.readline() : {readFoo(lambda f: f.readline())}')\n",
    "print(f'f.readlines() : {readFoo(lambda f: f.readlines())}')\n",
    "print(f'f.readlines(1) : {readFoo(lambda f: f.readlines(1))}')"
   ],
   "metadata": {
    "collapsed": false,
    "ExecuteTime": {
     "start_time": "2023-10-27T18:23:26.520456Z",
     "end_time": "2023-10-27T18:23:26.528365Z"
    }
   }
  },
  {
   "cell_type": "markdown",
   "source": [
    "# JSON"
   ],
   "metadata": {
    "collapsed": false
   }
  },
  {
   "cell_type": "code",
   "execution_count": 21,
   "outputs": [
    {
     "name": "stdout",
     "output_type": "stream",
     "text": [
      "{\"name\": \"Kim\", \"age\": 3}\n",
      "{'name': 'Kim', 'age': 3} <class 'dict'>\n"
     ]
    }
   ],
   "source": [
    "import json\n",
    "class Person():\n",
    "    def __init__(self, name: str, age: int):\n",
    "        self.name = name\n",
    "        self.age = age\n",
    "\n",
    "\n",
    "person = Person('Kim', 3)\n",
    "\n",
    "jsonString = json.dumps(person.__dict__)\n",
    "print(jsonString)\n",
    "\n",
    "loaded = json.loads(jsonString)\n",
    "print(loaded, type(loaded))\n"
   ],
   "metadata": {
    "collapsed": false,
    "ExecuteTime": {
     "start_time": "2023-10-27T18:39:36.576113Z",
     "end_time": "2023-10-27T18:39:36.579513Z"
    }
   }
  },
  {
   "cell_type": "code",
   "execution_count": 23,
   "outputs": [
    {
     "name": "stdout",
     "output_type": "stream",
     "text": [
      "data={'name': 'Foo', 'age': 30, 'children': [{'name': 'first', 'age': 1}, {'name': 'second', 'age': 2}]}, <class 'dict'>\n"
     ]
    }
   ],
   "source": [
    "with open('foo.json') as json_file:\n",
    "    data = json.load(json_file)\n",
    "    print(f'{data=}, {type(data)}')"
   ],
   "metadata": {
    "collapsed": false,
    "ExecuteTime": {
     "start_time": "2023-10-27T18:42:52.850933Z",
     "end_time": "2023-10-27T18:42:52.856992Z"
    }
   }
  },
  {
   "cell_type": "code",
   "execution_count": 45,
   "outputs": [
    {
     "name": "stdout",
     "output_type": "stream",
     "text": [
      "persons[*]: [{'name': 'foo', 'age': 1}, {'name': 'bar', 'age': 2}, {'name': 'baz', 'age': 3}]\n",
      "persons[*].age: [1, 2, 3]\n",
      "persons[?name==`foo`].age: [1]\n",
      "persons[?age>=`2`].name: ['bar', 'baz']\n"
     ]
    }
   ],
   "source": [
    "## JMESPath\n",
    "import jmespath\n",
    "data = {\n",
    "    \"persons\": [\n",
    "        Person('foo', 1).__dict__,\n",
    "        Person('bar', 2).__dict__,\n",
    "        Person('baz', 3).__dict__\n",
    "    ]\n",
    "}\n",
    "\n",
    "def jmesSearch(expression: str):\n",
    "    print(f'{expression}: {jmespath.search(expression, data)}')\n",
    "\n",
    "jmesSearch('persons[*]')\n",
    "jmesSearch('persons[*].age')\n",
    "\n",
    "jmesSearch(\"persons[?name==`foo`].age\")\n",
    "jmesSearch(\"persons[?age>=`2`].name\")\n"
   ],
   "metadata": {
    "collapsed": false,
    "ExecuteTime": {
     "start_time": "2023-10-27T18:56:51.270567Z",
     "end_time": "2023-10-27T18:56:51.273782Z"
    }
   }
  },
  {
   "cell_type": "markdown",
   "source": [
    "# YAML"
   ],
   "metadata": {
    "collapsed": false
   }
  },
  {
   "cell_type": "code",
   "execution_count": 49,
   "outputs": [
    {
     "name": "stdout",
     "output_type": "stream",
     "text": [
      "{'someStr': 'SOMESTR', 'someInt': 3, 'someList': [1, 2, 3], 'some': {'other': {'name': 'SOMEOTHERNAME'}}}\n"
     ]
    }
   ],
   "source": [
    "import yaml\n",
    "with open(\"foo.yaml\") as yaml_file:\n",
    "    data = yaml.safe_load(yaml_file)\n",
    "    print(data)"
   ],
   "metadata": {
    "collapsed": false,
    "ExecuteTime": {
     "start_time": "2023-10-27T19:15:30.818389Z",
     "end_time": "2023-10-27T19:15:30.825484Z"
    }
   }
  },
  {
   "cell_type": "markdown",
   "source": [
    "# CSV"
   ],
   "metadata": {
    "collapsed": false
   }
  },
  {
   "cell_type": "code",
   "execution_count": 54,
   "outputs": [
    {
     "name": "stdout",
     "output_type": "stream",
     "text": [
      "['name', 'age']\n",
      "['one', '1']\n",
      "['two', '2']\n",
      "['three', '3']\n",
      "['four', '4']\n",
      "['name', 'age']\n",
      "['one', '1']\n",
      "['two', '2']\n",
      "['three', '3']\n",
      "['four', '4']\n",
      "['four', '4']\n"
     ]
    }
   ],
   "source": [
    "import csv\n",
    "with open('foo.csv') as csv_file:\n",
    "    data = csv.reader(csv_file)\n",
    "    for row in data:\n",
    "        print(row)\n",
    "\n",
    "with open('foo.csv', 'a') as csv_file:\n",
    "    writer = csv.writer(csv_file)\n",
    "    writer.writerow(['four', 4])\n",
    "\n",
    "with open('foo.csv') as csv_file:\n",
    "    data = csv.reader(csv_file)\n",
    "    for row in data:\n",
    "        print(row)\n"
   ],
   "metadata": {
    "collapsed": false,
    "ExecuteTime": {
     "start_time": "2023-10-27T19:21:02.498693Z",
     "end_time": "2023-10-27T19:21:02.504395Z"
    }
   }
  },
  {
   "cell_type": "code",
   "execution_count": null,
   "outputs": [],
   "source": [],
   "metadata": {
    "collapsed": false
   }
  }
 ],
 "metadata": {
  "kernelspec": {
   "display_name": "Python 3",
   "language": "python",
   "name": "python3"
  },
  "language_info": {
   "codemirror_mode": {
    "name": "ipython",
    "version": 2
   },
   "file_extension": ".py",
   "mimetype": "text/x-python",
   "name": "python",
   "nbconvert_exporter": "python",
   "pygments_lexer": "ipython2",
   "version": "2.7.6"
  }
 },
 "nbformat": 4,
 "nbformat_minor": 0
}
