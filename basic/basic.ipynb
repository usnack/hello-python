{
 "cells": [
  {
   "cell_type": "code",
   "execution_count": 1,
   "metadata": {
    "ExecuteTime": {
     "start_time": "2023-10-23T18:50:06.925565Z",
     "end_time": "2023-10-23T18:50:06.943300Z"
    }
   },
   "outputs": [
    {
     "name": "stdout",
     "output_type": "stream",
     "text": [
      "MYFOO\n",
      "myfoo\n",
      "5\n",
      "['my', 'oo']\n",
      "myF00\n",
      "ooFym\n",
      "myFoo\n"
     ]
    }
   ],
   "source": [
    "# String API\n",
    "\n",
    "foo = \"myFoo\"\n",
    "\n",
    "print(foo.upper())\n",
    "print(foo.lower())\n",
    "print(len(foo))\n",
    "print(foo.split('F'))\n",
    "print(foo.replace('o', '0'))\n",
    "print(foo[::-1])\n",
    "# \n",
    "print(foo)"
   ]
  },
  {
   "cell_type": "code",
   "execution_count": 2,
   "metadata": {
    "ExecuteTime": {
     "start_time": "2023-10-23T18:50:08.273115Z",
     "end_time": "2023-10-23T18:50:08.292983Z"
    }
   },
   "outputs": [
    {
     "name": "stdout",
     "output_type": "stream",
     "text": [
      "My Name is Jack\n",
      "I am 31 years old\n",
      "name='John', age=56\n"
     ]
    }
   ],
   "source": [
    "# f-strings\n",
    "name='Jack'\n",
    "\n",
    "print(f'My Name is {name}')\n",
    "print(f'I am {10*3+1} years old')\n",
    "\n",
    "name = \"John\"\n",
    "age = 56\n",
    "\n",
    "print(f\"{name=}, {age=}\")"
   ]
  },
  {
   "cell_type": "code",
   "execution_count": 3,
   "metadata": {
    "ExecuteTime": {
     "start_time": "2023-10-23T18:50:09.295249Z",
     "end_time": "2023-10-23T18:50:09.323274Z"
    }
   },
   "outputs": [
    {
     "name": "stdout",
     "output_type": "stream",
     "text": [
      "1 2 3\n"
     ]
    }
   ],
   "source": [
    "print(1, 2, \"3\")"
   ]
  },
  {
   "cell_type": "code",
   "execution_count": 4,
   "metadata": {
    "ExecuteTime": {
     "start_time": "2023-10-23T18:50:09.822462Z",
     "end_time": "2023-10-23T18:50:09.850641Z"
    }
   },
   "outputs": [
    {
     "name": "stdout",
     "output_type": "stream",
     "text": [
      "0.4\n",
      "3.9\n",
      "0.30000000000000004\n"
     ]
    }
   ],
   "source": [
    "print(0.3+0.1)\n",
    "print(0.1+3.8)\n",
    "print(0.1+0.2)"
   ]
  },
  {
   "cell_type": "code",
   "execution_count": 5,
   "metadata": {
    "ExecuteTime": {
     "start_time": "2023-10-23T18:50:11.571472Z",
     "end_time": "2023-10-23T18:50:11.645293Z"
    }
   },
   "outputs": [
    {
     "name": "stdout",
     "output_type": "stream",
     "text": [
      "True\n",
      "False\n",
      "True\n",
      "4575706944 (1, 2)\n",
      "4575706752 (1, 2)\n",
      "4575706752 (1, 2)\n"
     ]
    }
   ],
   "source": [
    "a = (1,2)\n",
    "b = 1,2,\n",
    "c = b\n",
    "print(a==b)\n",
    "print(a is b)\n",
    "print(c is b)\n",
    "for x in [a,b,c]:\n",
    "    print(id(x), x)"
   ]
  },
  {
   "cell_type": "code",
   "execution_count": 6,
   "metadata": {
    "ExecuteTime": {
     "start_time": "2023-10-23T18:50:12.405942Z",
     "end_time": "2023-10-23T18:50:12.438657Z"
    }
   },
   "outputs": [
    {
     "data": {
      "text/plain": "{1, 2, 3, 4}"
     },
     "execution_count": 6,
     "metadata": {},
     "output_type": "execute_result"
    }
   ],
   "source": [
    "s = {1,2,3,4}\n",
    "s.discard(5)\n",
    "s"
   ]
  },
  {
   "cell_type": "code",
   "execution_count": 7,
   "metadata": {
    "ExecuteTime": {
     "start_time": "2023-10-23T18:50:13.146835Z",
     "end_time": "2023-10-23T18:50:13.198346Z"
    }
   },
   "outputs": [
    {
     "name": "stdout",
     "output_type": "stream",
     "text": [
      "IE:  \n",
      "finally done.\n"
     ]
    },
    {
     "name": "stderr",
     "output_type": "stream",
     "text": [
      "Traceback (most recent call last):\n",
      "  File \"/var/folders/z1/fnk6vz8500j3kqmxvsprb0vm0000gn/T/ipykernel_3697/2811366660.py\", line 9, in <module>\n",
      "    raise IndexError()\n",
      "IndexError\n"
     ]
    }
   ],
   "source": [
    "# Try Except\n",
    "import traceback\n",
    "\n",
    "flag = 2\n",
    "try:\n",
    "    if (flag == 1):\n",
    "        raise ZeroDivisionError()\n",
    "    elif(flag == 2):\n",
    "        raise IndexError()\n",
    "    else:\n",
    "        print('else')\n",
    "except ZeroDivisionError as e:\n",
    "    print('ZDE: ', e)\n",
    "    traceback.print_exc()\n",
    "except IndexError as e:\n",
    "    print('IE: ', e)\n",
    "    traceback.print_exc()\n",
    "else:\n",
    "    print('No Error')\n",
    "finally:\n",
    "    print('finally done.')"
   ]
  },
  {
   "cell_type": "code",
   "execution_count": 8,
   "metadata": {
    "ExecuteTime": {
     "start_time": "2023-10-23T18:50:13.703405Z",
     "end_time": "2023-10-23T18:50:13.775274Z"
    }
   },
   "outputs": [
    {
     "name": "stdout",
     "output_type": "stream",
     "text": [
      "foo A B\n",
      "foo A B\n",
      "bar A B\n",
      "bar 1 3\n"
     ]
    }
   ],
   "source": [
    "# Forced Keyword arguments\n",
    "\n",
    "def foo(a,b):\n",
    "    print('foo', a,b)\n",
    "    \n",
    "def bar(*, a,b):\n",
    "    print('bar', a,b)\n",
    "    \n",
    "def baz(*, a,b=3):\n",
    "    print('bar', a,b)\n",
    "\n",
    "foo(a='A', b='B')\n",
    "foo('A', 'B')\n",
    "bar(a='A', b='B')\n",
    "# bar('A', 'B') # Exception\n",
    "baz(a='1')"
   ]
  },
  {
   "cell_type": "code",
   "execution_count": 19,
   "metadata": {
    "ExecuteTime": {
     "start_time": "2023-10-23T18:53:29.355810Z",
     "end_time": "2023-10-23T18:53:29.361752Z"
    }
   },
   "outputs": [
    {
     "name": "stdout",
     "output_type": "stream",
     "text": [
      "From Dict\n",
      "A B C D E\n",
      "From Object.__dict__\n",
      "1 2 3 4 5\n"
     ]
    }
   ],
   "source": [
    "# Using * and **\n",
    "def foo(*, a, b, c, d, e):\n",
    "    print(a,b, c, d, e)\n",
    "\n",
    "# ** for dictionary\n",
    "dict = {\"a\":\"A\", \"b\": \"B\", \"c\": \"C\", \"d\": \"D\", \"e\": \"E\"}\n",
    "print('From Dict')\n",
    "foo(**dict)\n",
    "\n",
    "class Data():\n",
    "    a=None\n",
    "    b=None\n",
    "    c=None\n",
    "    d=None\n",
    "    e=None\n",
    "    def __init__(self, a, b, c, d, e):\n",
    "        self.a = a\n",
    "        self.b = b\n",
    "        self.c = c\n",
    "        self.d = d\n",
    "        self.e = e\n",
    "data = Data(1,2,3,4,5)\n",
    "# foo(**data) # Exception\n",
    "fooArg = data.__dict__\n",
    "print('From Object.__dict__')\n",
    "foo(**fooArg)"
   ]
  },
  {
   "cell_type": "code",
   "execution_count": 22,
   "metadata": {
    "ExecuteTime": {
     "start_time": "2023-10-23T18:54:00.224574Z",
     "end_time": "2023-10-23T18:54:00.230093Z"
    }
   },
   "outputs": [
    {
     "name": "stdout",
     "output_type": "stream",
     "text": [
      "1 2 3 4\n"
     ]
    }
   ],
   "source": [
    "def bar(a,b,c,d):\n",
    "    print(a,b,c,d)\n",
    "\n",
    "l = [1,2,3,4]\n",
    "bar(*l)"
   ]
  },
  {
   "cell_type": "code",
   "execution_count": 42,
   "metadata": {
    "ExecuteTime": {
     "start_time": "2023-10-23T19:06:11.093468Z",
     "end_time": "2023-10-23T19:06:11.218350Z"
    }
   },
   "outputs": [
    {
     "name": "stdout",
     "output_type": "stream",
     "text": [
      "It takes 0.1289839744567871!!\n"
     ]
    }
   ],
   "source": [
    "# Decorator\n",
    "import time\n",
    "\n",
    "def Workbench(func):\n",
    "    def wrap():\n",
    "        start = time.time()\n",
    "        func()\n",
    "        end = time.time()\n",
    "        print(f\"It takes {end-start}!!\")\n",
    "    return wrap\n",
    "\n",
    "@Workbench\n",
    "def someHardWork():\n",
    "    for i in range(0, 10000000):\n",
    "        pass\n",
    "\n",
    "someHardWork()\n"
   ]
  },
  {
   "cell_type": "code",
   "execution_count": 45,
   "metadata": {
    "ExecuteTime": {
     "start_time": "2023-10-23T19:07:39.145962Z",
     "end_time": "2023-10-23T19:07:39.152132Z"
    }
   },
   "outputs": [
    {
     "data": {
      "text/plain": "16"
     },
     "execution_count": 45,
     "metadata": {},
     "output_type": "execute_result"
    }
   ],
   "source": [
    "# Lambda Function\n",
    "power = lambda x: x*x\n",
    "power(4)"
   ]
  },
  {
   "cell_type": "code",
   "execution_count": 48,
   "metadata": {
    "ExecuteTime": {
     "start_time": "2023-10-23T19:08:29.022248Z",
     "end_time": "2023-10-23T19:08:29.024244Z"
    }
   },
   "outputs": [
    {
     "data": {
      "text/plain": "[1, 4, 9, 16]"
     },
     "execution_count": 48,
     "metadata": {},
     "output_type": "execute_result"
    }
   ],
   "source": [
    "l = [1,2,3,4]\n",
    "powers = map(lambda x: x*x, l)\n",
    "list(powers)"
   ]
  },
  {
   "cell_type": "code",
   "execution_count": 79,
   "outputs": [
    {
     "name": "stdout",
     "output_type": "stream",
     "text": [
      "[1, 4, 9, 16]\n",
      "[9, 16]\n",
      "[9, 16]\n"
     ]
    }
   ],
   "source": [
    "# List Comprehension\n",
    "# [ <expression> for item in list if <conditional> ]\n",
    "\n",
    "print([x*x for x in range(1,5)])\n",
    "print([x*x for x in range(1,5) if x > 2])\n",
    "\n",
    "def pow(num):\n",
    "    return num*num\n",
    "print([pow(x) for x in range(1,5) if x > 2])\n"
   ],
   "metadata": {
    "collapsed": false,
    "ExecuteTime": {
     "start_time": "2023-10-23T19:47:41.997303Z",
     "end_time": "2023-10-23T19:47:42.000055Z"
    }
   }
  },
  {
   "cell_type": "code",
   "execution_count": 80,
   "outputs": [],
   "source": [
    "m = [[f'{j}-{i}' for j in range(3)] for i in range(4, 8)]"
   ],
   "metadata": {
    "collapsed": false,
    "ExecuteTime": {
     "start_time": "2023-10-23T19:47:42.703587Z",
     "end_time": "2023-10-23T19:47:42.707970Z"
    }
   }
  },
  {
   "cell_type": "code",
   "execution_count": 81,
   "outputs": [
    {
     "data": {
      "text/plain": "['0-4',\n '1-4',\n '2-4',\n '0-5',\n '1-5',\n '2-5',\n '0-6',\n '1-6',\n '2-6',\n '0-7',\n '1-7',\n '2-7']"
     },
     "execution_count": 81,
     "metadata": {},
     "output_type": "execute_result"
    }
   ],
   "source": [
    "[value for sublist in m for value in sublist]"
   ],
   "metadata": {
    "collapsed": false,
    "ExecuteTime": {
     "start_time": "2023-10-23T19:47:42.969377Z",
     "end_time": "2023-10-23T19:47:42.973626Z"
    }
   }
  },
  {
   "cell_type": "code",
   "execution_count": 86,
   "outputs": [
    {
     "name": "stdout",
     "output_type": "stream",
     "text": [
      "{0, 1, 2}\n"
     ]
    },
    {
     "data": {
      "text/plain": "{'len(a)': 1, 'len(ab)': 2, 'len(abcd)': 4, 'len(abc)': 3}"
     },
     "execution_count": 86,
     "metadata": {},
     "output_type": "execute_result"
    }
   ],
   "source": [
    "# Set Comprehension\n",
    "# { <expression> for item in set if <conditional> }\n",
    "print({x%3 for x in range (0, 100)})\n",
    "\n",
    "# Dictionary Comprehension\n",
    "x = {f'len({x})': len(x) for x in ['a', 'ab', 'abcd', 'abc']}\n",
    "x"
   ],
   "metadata": {
    "collapsed": false,
    "ExecuteTime": {
     "start_time": "2023-10-23T19:54:59.474333Z",
     "end_time": "2023-10-23T19:54:59.482105Z"
    }
   }
  },
  {
   "cell_type": "code",
   "execution_count": 92,
   "outputs": [
    {
     "name": "stdout",
     "output_type": "stream",
     "text": [
      "0\n",
      "1\n",
      "2\n",
      "3\n",
      "4\n",
      "5\n",
      "6\n",
      "7\n",
      "8\n",
      "9\n",
      "10\n",
      "11\n",
      "12\n",
      "13\n",
      "14\n",
      "15\n",
      "16\n",
      "17\n",
      "18\n",
      "19\n",
      "20\n",
      "21\n",
      "22\n",
      "23\n",
      "24\n",
      "25\n",
      "26\n",
      "27\n",
      "28\n",
      "29\n"
     ]
    },
    {
     "ename": "StopIteration",
     "evalue": "",
     "output_type": "error",
     "traceback": [
      "\u001B[0;31m---------------------------------------------------------------------------\u001B[0m",
      "\u001B[0;31mStopIteration\u001B[0m                             Traceback (most recent call last)",
      "Cell \u001B[0;32mIn[92], line 7\u001B[0m\n\u001B[1;32m      5\u001B[0m fooIterator \u001B[38;5;241m=\u001B[39m fooIterable\u001B[38;5;241m.\u001B[39m\u001B[38;5;21m__iter__\u001B[39m()\n\u001B[1;32m      6\u001B[0m \u001B[38;5;28;01mwhile\u001B[39;00m \u001B[38;5;28;01mTrue\u001B[39;00m:\n\u001B[0;32m----> 7\u001B[0m     \u001B[38;5;28mprint\u001B[39m(\u001B[43mfooIterator\u001B[49m\u001B[38;5;241;43m.\u001B[39;49m\u001B[38;5;21;43m__next__\u001B[39;49m\u001B[43m(\u001B[49m\u001B[43m)\u001B[49m)\n",
      "\u001B[0;31mStopIteration\u001B[0m: "
     ]
    }
   ],
   "source": [
    "# Iterator, Iterable\n",
    "# Iterable은 __iter__ 메소드에 의해 Iterator를 반환한다.\n",
    "# Iterator는 __next__ 메소드와 StopIteration를 통해 루프를 돌 수 있다.\n",
    "fooIterable = range(30)\n",
    "fooIterator = fooIterable.__iter__()\n",
    "while True:\n",
    "    print(fooIterator.__next__())\n"
   ],
   "metadata": {
    "collapsed": false,
    "ExecuteTime": {
     "start_time": "2023-10-23T19:56:28.561520Z",
     "end_time": "2023-10-23T19:56:28.565238Z"
    }
   }
  },
  {
   "cell_type": "code",
   "execution_count": 96,
   "outputs": [
    {
     "name": "stdout",
     "output_type": "stream",
     "text": [
      "key='x', value='X'\n",
      "key='y', value='Y'\n",
      "key='z', value='Z'\n"
     ]
    }
   ],
   "source": [
    "for key, value in {'x': \"X\", 'y': \"Y\", 'z': \"Z\"}.items():\n",
    "    print(f'{key=}, {value=}')"
   ],
   "metadata": {
    "collapsed": false,
    "ExecuteTime": {
     "start_time": "2023-10-23T19:59:43.781016Z",
     "end_time": "2023-10-23T19:59:43.788580Z"
    }
   }
  },
  {
   "cell_type": "code",
   "execution_count": 99,
   "outputs": [
    {
     "data": {
      "text/plain": "range(2, 4)"
     },
     "execution_count": 99,
     "metadata": {},
     "output_type": "execute_result"
    }
   ],
   "source": [
    "range(0, 5)[2:4]"
   ],
   "metadata": {
    "collapsed": false,
    "ExecuteTime": {
     "start_time": "2023-10-23T20:04:39.848481Z",
     "end_time": "2023-10-23T20:04:39.855667Z"
    }
   }
  },
  {
   "cell_type": "code",
   "execution_count": 102,
   "outputs": [
    {
     "data": {
      "text/plain": "[]"
     },
     "execution_count": 102,
     "metadata": {},
     "output_type": "execute_result"
    }
   ],
   "source": [],
   "metadata": {
    "collapsed": false,
    "ExecuteTime": {
     "start_time": "2023-10-23T20:05:29.432791Z",
     "end_time": "2023-10-23T20:05:29.440940Z"
    }
   }
  },
  {
   "cell_type": "code",
   "execution_count": null,
   "outputs": [],
   "source": [],
   "metadata": {
    "collapsed": false
   }
  }
 ],
 "metadata": {
  "kernelspec": {
   "display_name": "base",
   "language": "python",
   "name": "python3"
  },
  "language_info": {
   "codemirror_mode": {
    "name": "ipython",
    "version": 3
   },
   "file_extension": ".py",
   "mimetype": "text/x-python",
   "name": "python",
   "nbconvert_exporter": "python",
   "pygments_lexer": "ipython3",
   "version": "3.11.4"
  }
 },
 "nbformat": 4,
 "nbformat_minor": 2
}
